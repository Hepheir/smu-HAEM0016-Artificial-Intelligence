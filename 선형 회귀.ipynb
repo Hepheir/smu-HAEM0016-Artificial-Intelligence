{
 "cells": [
  {
   "cell_type": "code",
   "execution_count": 1,
   "metadata": {},
   "outputs": [
    {
     "name": "stdout",
     "output_type": "stream",
     "text": [
      "         size  price\n",
      "0   27.575758   6.10\n",
      "1   26.969697   3.80\n",
      "2   36.969697   5.70\n",
      "3   13.636364   1.80\n",
      "4   56.969697  13.00\n",
      "5   29.090909   6.20\n",
      "6   80.303030  12.00\n",
      "7   51.515152   9.00\n",
      "8   34.848485   5.30\n",
      "9   18.484848   1.70\n",
      "10  30.909091   3.80\n",
      "11  33.939394   5.80\n",
      "12  26.060606   3.70\n",
      "13  32.424242   8.50\n",
      "14  32.121212   4.70\n",
      "15  31.818182   4.70\n",
      "16  30.909091   6.00\n",
      "17  36.969697   5.00\n",
      "18  32.424242   6.50\n",
      "19  33.030303   6.50\n",
      "20  27.575758   7.00\n",
      "21  20.000000   2.70\n",
      "22  25.454545   8.60\n",
      "23  31.818182   6.20\n",
      "24  32.424242   5.80\n",
      "25  32.424242   8.19\n",
      "26  28.484848   5.09\n",
      "27  32.424242   8.00\n",
      "28  37.272727   6.10\n",
      "29  25.757576   5.90\n",
      "30  23.333333   6.00\n",
      "31  31.515152   7.20\n",
      "32  33.333333   8.50\n",
      "33  19.393939   3.90\n",
      "34  33.030303   8.50\n",
      "35  20.909091   2.50\n",
      "36  33.636364   5.00\n",
      "37  21.212121   2.35\n",
      "38  30.606061   3.30\n",
      "39  30.909091   4.50\n",
      "40  29.393939   3.50\n",
      "41  57.878788   6.30\n",
      "42  30.909091   4.09\n",
      "43  18.787879   2.20\n",
      "44  28.181818   5.20\n",
      "45  30.606061   3.30\n",
      "46  21.212121   2.35\n",
      "47  32.727273  10.00\n",
      "48  28.787879   4.40\n",
      "49  47.575758   7.30\n",
      "50  32.121212   4.90\n",
      "51  14.848485   3.72\n"
     ]
    }
   ],
   "source": [
    "import numpy as np\n",
    "import pandas as pd\n",
    "\n",
    "data = pd.read_csv('house_price.txt', names=['size', 'price'])\n",
    "print(data)\n",
    "\n",
    "X = data['size']\n",
    "y = data['price']\n",
    "m = len(data)"
   ]
  },
  {
   "cell_type": "code",
   "execution_count": 2,
   "metadata": {},
   "outputs": [
    {
     "name": "stdout",
     "output_type": "stream",
     "text": [
      "(52, 1) (52, 1)\n"
     ]
    }
   ],
   "source": [
    "X = np.array(X).reshape(m, 1)\n",
    "y = np.array(y).reshape(m, 1)\n",
    "print(X.shape, y.shape)"
   ]
  },
  {
   "cell_type": "code",
   "execution_count": 3,
   "metadata": {},
   "outputs": [
    {
     "data": {
      "image/png": "[encoded data removed]",
      "text/plain": [
       "<Figure size 640x480 with 1 Axes>"
      ]
     },
     "metadata": {},
     "output_type": "display_data"
    }
   ],
   "source": [
    "import matplotlib.pyplot as plt\n",
    "\n",
    "plt.plot(X, y, 'b.')\n",
    "plt.xlabel('Size of a housee in Pyeong')\n",
    "plt.ylabel('Price in uck-won')\n",
    "plt.show()"
   ]
  },
  {
   "cell_type": "code",
   "execution_count": 4,
   "metadata": {},
   "outputs": [
    {
     "name": "stdout",
     "output_type": "stream",
     "text": [
      "theta:\n",
      "[[0.007878  ]\n",
      " [0.17556765]]\n"
     ]
    }
   ],
   "source": [
    "X_b = np.c_[np.ones((m, 1)), X]\n",
    "\n",
    "learning_rate = 0.0001\n",
    "n_iter = 200\n",
    "\n",
    "theta = np.zeros((2,1))\n",
    "gradients = np.zeros((2, 1))\n",
    "\n",
    "for i in range(n_iter):\n",
    "    gradients = (2 / m) * np.dot(X_b.T, np.dot(X_b, theta) - y)\n",
    "    theta = theta - learning_rate * gradients\n",
    "\n",
    "print('theta:')\n",
    "print(theta)"
   ]
  },
  {
   "cell_type": "code",
   "execution_count": 5,
   "metadata": {},
   "outputs": [
    {
     "name": "stdout",
     "output_type": "stream",
     "text": [
      "10평과 90평 집의 예측 가격\n",
      "[[ 1.76355445]\n",
      " [15.80896606]]\n"
     ]
    }
   ],
   "source": [
    "X_new = np.array([[10], [90]])\n",
    "X_new_b = np.c_[np.ones((2, 1)), X_new]\n",
    "y_predict = X_new_b.dot(theta)\n",
    "\n",
    "print('10평과 90평 집의 예측 가격')\n",
    "print(y_predict)"
   ]
  }
 ],
 "metadata": {
  "kernelspec": {
   "display_name": "base",
   "language": "python",
   "name": "python3"
  },
  "language_info": {
   "codemirror_mode": {
    "name": "ipython",
    "version": 3
   },
   "file_extension": ".py",
   "mimetype": "text/x-python",
   "name": "python",
   "nbconvert_exporter": "python",
   "pygments_lexer": "ipython3",
   "version": "3.10.9"
  },
  "orig_nbformat": 4
 },
 "nbformat": 4,
 "nbformat_minor": 2
}
